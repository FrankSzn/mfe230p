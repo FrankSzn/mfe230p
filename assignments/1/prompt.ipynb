{
 "cells": [
  {
   "cell_type": "markdown",
   "metadata": {},
   "source": [
    "# MFE 230P: ASSIGNMENT I\n",
    "**YOUR STUDENT ID** \\\\ YOUR NAME \\\\ YOUR GROUP NAME"
   ]
  },
  {
   "cell_type": "markdown",
   "metadata": {},
   "source": [
    "# 1. Convexity"
   ]
  },
  {
   "cell_type": "markdown",
   "metadata": {},
   "source": [
    "### A. Convex Maximization\n",
    "\n",
    "Some authors obtain the maximum eigenvalue of a positive semi-definite matrix $A\\in\\mathbb{R}^{n\\times n}$ from the following optimization problem\n",
    "\n",
    "$$\\max_{x} x^\\top A x \\text{ subject to } \\|x\\|_2 = 1$$\n",
    "\n",
    "while others instead write \n",
    "\n",
    "$$\\max_{x} x^\\top A x \\text{ subject to } \\|x\\|_2 \\leq 1$$\n",
    "\n",
    "Despite the fact that the unit sphere $\\{ x \\mid \\|x\\|_2 = 1\\}$ is a subset (more or less the shell) of the unit ball $\\{x \\mid \\|x\\|_2 \\leq 1\\}$, the two formulations are equivalent (meaning both problems produce the same minimizer) so long as $A \\neq \\mathbf{0}$. In fact, more generally, maximizing a convex function $f:\\mathbb{R}^n \\mapsto\\mathbb{R}$ over any non-empty closed set $\\mathcal{X} \\subset \\mathbb{R}^n$\n",
    "\n",
    "$$\\max_{x} f(x) \\text{ subject to } x \\in \\mathcal{X}$$\n",
    "\n",
    "is equivalent to maximizing $f$ over the [convex hull](https://en.wikipedia.org/wiki/Convex_hull) of $\\mathcal{X}$\n",
    "\n",
    "$$\\max_{x} f(x) \\text{ subject to } x \\in \\mathbf{conv}(\\mathcal{X})$$\n",
    "\n",
    "Prove that this claim is indeed true.\n",
    "\n",
    "Utility maximization problems with convex preferences can be modeled as convex maximization programs, where the feasible region—defined by budget constraints—is often a [convex polytope](https://en.wikipedia.org/wiki/Convex_polytope). What does the above result suggest about where the optimal basket of goods will lie?"
   ]
  },
  {
   "cell_type": "markdown",
   "metadata": {},
   "source": [
    "### SOLUTION.\n",
    "\n",
    "_Your solution here._"
   ]
  },
  {
   "cell_type": "markdown",
   "metadata": {},
   "source": [
    "### B. Transaction Cost Conventions\n",
    "\n",
    "Transaction costs play a key role in designing successful trading strategies: If expected profits cannot be justified by their costs, then the investor should not transact. Each broker provides his/her own transaction cost to incentivise certain trading behavior. Below is a figure charting total transaction cost as a function of the number of shares purchased of a given stock:\n",
    "\n",
    "<img src=\"transaction_costs.png\">\n",
    "\n",
    "Derive a mathematical expression that models each curve, explain whether or not the transaction costs are convex, and intutively rationalize what type of behavior the broker is encouraging by imposing these costs. What conclusion can you draw about the relationship between convex costs and diversification?"
   ]
  },
  {
   "cell_type": "markdown",
   "metadata": {},
   "source": [
    "### SOLUTION.\n",
    "\n",
    "_Your solution here._\n",
    "\n",
    "**<font color='purple'>Purple.</font>**\n",
    "\n",
    "**<font color='red'>Red.</font>**\n",
    "\n",
    "**<font color='blue'>Blue.</font>**\n",
    "\n",
    "**<font color='green'>Green.</font>**"
   ]
  },
  {
   "cell_type": "markdown",
   "metadata": {},
   "source": [
    "# 2. Clustering"
   ]
  },
  {
   "cell_type": "markdown",
   "metadata": {},
   "source": [
    "### A. $k$-Means Loss is decreasing in $k$\n",
    "\n",
    "Recall that $k$-means clustering can be expressed as the following mathematical program\n",
    "\n",
    "$$p^\\star(k) = \\min_{C_j} \\sum_{j=1}^k \\left\\{ \\frac{1}{\\left|\\Omega_j\\right|} \\sum_{i\\in\\Omega_j} \\|x_i - C_j\\|_2 \\right\\}$$\n",
    "\n",
    "where $x_i\\in\\mathbb{R}^n$ is the $i^{th}$ example and $\\Omega_j = \\left\\{i \\mid \\forall l\\neq j: \\|x_i - C_j\\|_2 \\leq \\|x_i - C_l\\|_2\\right\\}$. Show that $p^\\star(k+1)\\leq p^\\star(k)$ for all $k \\geq 1$. What are the qualitative implications of this result when applying clustering in practice?"
   ]
  },
  {
   "cell_type": "markdown",
   "metadata": {},
   "source": [
    "### SOLUTION.\n",
    "\n",
    "_Your solution here._"
   ]
  },
  {
   "cell_type": "markdown",
   "metadata": {},
   "source": [
    "### B. Lloyd's Algorithm Implementation\n",
    "\n",
    "Write a `Python` implementation of Lloyd's algorithm in a function `kmeans` using the template provided in the next cell below. You may not use any external packages to complete this problem aside from `numpy`."
   ]
  },
  {
   "cell_type": "markdown",
   "metadata": {},
   "source": [
    "### SOLUTION."
   ]
  },
  {
   "cell_type": "code",
   "execution_count": null,
   "metadata": {
    "collapsed": true
   },
   "outputs": [],
   "source": [
    "import numpy as np\n",
    "\n",
    "def kmeans(data, k = 2, total_iter=100):\n",
    "    \"\"\"\n",
    "    data: An (n times p) numpy array with rows representing n observations of dimension p.\n",
    "    k: An integer specifying the number of desired clusters.\n",
    "    total_iter: The total number of iterations to perform.\n",
    "    \n",
    "    Outputs an array of length n containing cluster assignments.\n",
    "    \"\"\"\n",
    "\n",
    "    # your implementation here\n",
    "    \n",
    "    return cluster_assignments"
   ]
  },
  {
   "cell_type": "markdown",
   "metadata": {},
   "source": [
    "### C. Clusterpath Implementation\n",
    "\n",
    "Write a `Python` implementation of $\\ell_1$-clusterpath\n",
    "\n",
    "$$\\min_{\\mu_i,\\mu_j} \\sum_{i=1}^n \\| x_i - \\mu_i \\|_2^2 + \\lambda \\sum_{i<j} w_{ij} \\|\\mu_i - \\mu_j\\|_1$$\n",
    "\n",
    "where $x_i$ is a row vector denoting the $i^{th}$ observation and $w_{ij} = \\exp\\left\\{-\\|x_i - x_j\\|_2^2\\right\\}$. A template is provided in the next cell below. You may not use any external packages to complete this problem aside from `cvxpy`, `numpy`, and the function `enumerate_centroids` provided in the next cell. A list of `cvxpy` functions can be accessed [here](http://www.cvxpy.org/en/latest/tutorial/functions/).\n",
    "\n",
    "Intuitively, what role do the fusion penalty weights $w_{ij}$ play in clusterpath? What do you expect to occur when $\\forall i,j: w_{ij} = 1$? "
   ]
  },
  {
   "cell_type": "markdown",
   "metadata": {},
   "source": [
    "### SOLUTION."
   ]
  },
  {
   "cell_type": "code",
   "execution_count": null,
   "metadata": {
    "collapsed": true
   },
   "outputs": [],
   "source": [
    "import cvxpy as cvx\n",
    "\n",
    "def enumerate_centroids(centroids):\n",
    "    \"\"\"Given a n x p matrix of centroids outputted from cvxpy,\n",
    "    where each of the n rows represents a centroid, will return\n",
    "    an n x 1 array enumerating centroids.\"\"\"\n",
    "\n",
    "    unique = {} # stores unique centroids and numbers\n",
    "    enumeration = [] # to store cluster number\n",
    "    i = 0 # cluster number\n",
    "\n",
    "    for row in np.round(centroids, 3):\n",
    "\n",
    "        key = tuple(row)\n",
    "        value = unique.get(key)\n",
    "\n",
    "        if value is not None:\n",
    "            enumeration.append(value)\n",
    "        else:\n",
    "            unique[key] = i # add cluster to dictionary\n",
    "            enumeration.append(i)\n",
    "            i += 1 # increment counter by one\n",
    "\n",
    "    return np.array(enumeration)\n",
    "\n",
    "def clusterpath(data, lamb=1, gamma=1):\n",
    "    \"\"\"\n",
    "    data: An (n times p) numpy array with rows representing n \n",
    "    observations of dimension p.\n",
    "    lamb: A positive number representing lambda in the clusterpath\n",
    "    problem, which controls how harshly to penalize the fusion\n",
    "    penalties.\n",
    "    gamma: The bandwidth parameter of the exponentially-decaying weights.\n",
    "    \n",
    "    Outputs an array of length n containing cluster assignments.\n",
    "    \"\"\"\n",
    "\n",
    "    # your implementation here\n",
    "    \n",
    "    return cluster_assignments"
   ]
  },
  {
   "cell_type": "markdown",
   "metadata": {},
   "source": [
    "Having $w_{ij}$ be decreasing in $\\|x_i - x_j\\|$ means that the fusion penalty on centroids is larger if observations are close to each other and decays small quickly if they are farther apart. Intuitively, this means that fusing two far apart cluster centroids will not decrease the loss substantially, so clusterpath will instead focus on fusing clusters that are adjacent, per say. Focusing on adjancency means capturing local information, like forming clusters that may not necessarily be spherically-shaped. When $w_{ij} = 1$, the fusion penalties are insensitive to distance between observations and therefore will try to fuse the centroids of two points that may be arbitrarily far apart."
   ]
  },
  {
   "cell_type": "markdown",
   "metadata": {},
   "source": [
    "### D. Test Your Code\n",
    "\n",
    "Now that you've created the `kmeans` and `clusterpath` functions, we will test them on some simulated data to make sure the results are consistent."
   ]
  },
  {
   "cell_type": "code",
   "execution_count": null,
   "metadata": {
    "collapsed": true
   },
   "outputs": [],
   "source": [
    "X = np.vstack(\n",
    "    (\n",
    "        np.random.normal(loc=(2,2), size=(10,2)),\n",
    "        np.random.normal(loc=(-2,-2), size=(10,2))\n",
    "    )\n",
    ")"
   ]
  },
  {
   "cell_type": "markdown",
   "metadata": {},
   "source": [
    "which creates a $20 \\times 2$ matrix where the first 10 rows are drawn iid from $\\mathcal{N}\\left((2,2),\\mathbb{I}_2\\right)$ and the last 10 are drawn iid from $\\mathcal{N}\\left((-2,-2),\\mathbb{I}_2\\right)$. If your implementation is successful and your parameters are set properly (e.g. $k =2$ in $k$-means), then your clustering function should roughly assign the first set of 10 observations to a different cluster than the second set of 10 observations. For example,"
   ]
  },
  {
   "cell_type": "code",
   "execution_count": 5,
   "metadata": {},
   "outputs": [
    {
     "data": {
      "text/plain": [
       "array([1, 1, 1, 1, 1, 1, 1, 1, 1, 1, 0, 0, 0, 0, 0, 0, 0, 0, 0, 0])"
      ]
     },
     "execution_count": 5,
     "metadata": {},
     "output_type": "execute_result"
    }
   ],
   "source": [
    "kmeans(X, k=2, total_iter=100)"
   ]
  },
  {
   "cell_type": "markdown",
   "metadata": {},
   "source": [
    "Now, simply execute the following cell and overwrite the provided figure; your results should be similar to the figures displayed below. If your figure looks like [dip-n-dots](http://bfy.tw/Bmxq), then something is wrong with your code."
   ]
  },
  {
   "cell_type": "code",
   "execution_count": 6,
   "metadata": {},
   "outputs": [
    {
     "data": {
      "image/png": "[encoded data removed]",
      "text/plain": [
       "<matplotlib.figure.Figure at 0x1113592e8>"
      ]
     },
     "metadata": {},
     "output_type": "display_data"
    }
   ],
   "source": [
    "kmeans_assignments = kmeans(X, k=3, total_iter=100) # THIS WILL RUN YOUR KMEANS FUNCTION\n",
    "clusterpath_assignments = clusterpath(X, lamb=50) # THIS WILL RUN YOUR CLUSTERPATH FUNCTION\n",
    "\n",
    "########## The following code will plot your clusters. ####################################\n",
    "\n",
    "from matplotlib import pyplot as plt\n",
    "%matplotlib inline\n",
    "\n",
    "x, y = zip(*X)\n",
    "\n",
    "plt.style.use('ggplot')\n",
    "plt.figure(figsize=(18,6))\n",
    "\n",
    "plt.subplot(1,2,2)\n",
    "plt.scatter(x, y, c=kmeans_assignments,\n",
    "            linewidths=20, alpha=.5, marker='o')\n",
    "plt.title(r'$k$-Means on Gaussian Mixture')\n",
    "\n",
    "plt.subplot(1,2,1)\n",
    "plt.scatter(x, y, c=clusterpath_assignments,\n",
    "            linewidths=20, alpha=.5, marker='o')\n",
    "plt.title(r'$\\ell_1$-Clusterpath on Gaussian Mixture')\n",
    "\n",
    "plt.show()"
   ]
  },
  {
   "cell_type": "markdown",
   "metadata": {},
   "source": [
    "### E. Grouping Industries by Holdings\n",
    "\n",
    "Executing the next cell below will download a dataset—a la [Professor Damodaran](http://www.stern.nyu.edu/faculty/bio/aswath-damodaran) of NYU Stern—containing insider and institutional holdings as a percent of outstanding stock, classified by industry. Our goal is to use clustering to understand which industries are similar to each other in terms of these holdings. This type of information is relevant to regulators looking to design laws aimed at particular industries based on these findings.\n",
    "\n",
    "The holdings data will be stored in a variable `data`, a `pandas` dataframe object, which will contain the following columns:\n",
    "\n",
    "- `total_num`: Total number of companies in each industry\n",
    "- `ceo`: CEO holdings (percent)\n",
    "- `institutional`: Intitutional holdings (percent)\n",
    "- `insider`: Total insider holdings (percent)\n",
    "\n",
    "Perform $k$-means clustering on the latter three variables for $k \\in \\{2,5,10\\}$ and clusterpath for $\\lambda \\in \\{2, 1, .5\\}$ and $\\gamma = .01$ using the functions you coded previously. For each pair $(k, \\lambda)$ of hyper-parameters, plot each observation on a figure with x-axis representing `institutional` and y-axis representing `insider`, color-coding each industry by its respective cluster assignment, adjusting size to match `total_num`.\n",
    "\n",
    "Note that since `data` is a table that contains non-numeric information, you will need to perform clustering only on the numerical portion of the table. (You may consider using [the `.as_matrix()` attribute](http://pandas.pydata.org/pandas-docs/stable/generated/pandas.DataFrame.as_matrix.html)). Also, due to the size of the data and the genericness of `cvxpy`'s solution method, `clusterpath` will take several minutes to run."
   ]
  },
  {
   "cell_type": "code",
   "execution_count": null,
   "metadata": {
    "collapsed": true
   },
   "outputs": [],
   "source": [
    "import pandas as pd\n",
    "\n",
    "data = pd.read_csv( # this will read in the returns data as a csv\n",
    "    '../../data/holdings.csv',\n",
    "    index_col=0, header=0\n",
    ")\n",
    "\n",
    "data.head() # sample of dataset"
   ]
  },
  {
   "cell_type": "markdown",
   "metadata": {},
   "source": [
    "### SOLUTION.\n",
    "\n",
    "_Your solution here._"
   ]
  },
  {
   "cell_type": "markdown",
   "metadata": {},
   "source": [
    "### F. Comment on Results\n",
    "\n",
    "What differences do you notice between the way $k$-means and clusterpath group industries? How do these results change with the variations in $k$ and $\\lambda$? Do some research on a few industries in each cluster: intuitively, do the groupings make sense?"
   ]
  },
  {
   "cell_type": "markdown",
   "metadata": {},
   "source": [
    "### SOLUTION.\n",
    "\n",
    "_Your solution here._"
   ]
  },
  {
   "cell_type": "markdown",
   "metadata": {},
   "source": [
    "### G. $\\ell_1$ distance metric\n",
    "\n",
    "Suppose for both $k$-means and clusterpath, we replaced the $\\ell_2$ norm for computing distance to clusters with the $\\ell_1$ norm. Specifically, consider obtaining clusters by solving \n",
    "\n",
    "$$\\min_{C_j} \\sum_{j=1}^k \\left\\{ \\frac{1}{\\left|\\Omega_j\\right|} \\sum_{i\\in\\Omega_j} \\|x_i - C_j\\|_1 \\right\\}$$\n",
    "\n",
    "instead of $k$-means or \n",
    "\n",
    "$$\\min_{\\mu_i,\\mu_j} \\sum_{i=1}^n \\| x_i - \\mu_i \\|_1 + \\lambda \\sum_{i<j} w_{ij} \\|\\mu_i - \\mu_j\\|_1$$\n",
    "\n",
    "instead of clusterpath. Explain qualitatively how this would affect the way clusters were assigned in the previous excercise."
   ]
  },
  {
   "cell_type": "markdown",
   "metadata": {},
   "source": [
    "### SOLUTION.\n",
    "\n",
    "_Your solution here._"
   ]
  }
 ],
 "metadata": {
  "kernelspec": {
   "display_name": "Python 3",
   "language": "python",
   "name": "python3"
  },
  "language_info": {
   "codemirror_mode": {
    "name": "ipython",
    "version": 3
   },
   "file_extension": ".py",
   "mimetype": "text/x-python",
   "name": "python",
   "nbconvert_exporter": "python",
   "pygments_lexer": "ipython3",
   "version": "3.5.3"
  }
 },
 "nbformat": 4,
 "nbformat_minor": 2
}
